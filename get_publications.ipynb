{
 "cells": [
  {
   "cell_type": "markdown",
   "id": "74557173",
   "metadata": {
    "papermill": {
     "duration": 0.002289,
     "end_time": "2024-08-01T05:12:32.065266",
     "exception": false,
     "start_time": "2024-08-01T05:12:32.062977",
     "status": "completed"
    },
    "tags": []
   },
   "source": [
    "_Adapted from notebook used by [nbclab.github.io](https://nbclab.github.io)._\n",
    "\n",
    "# Retrieve new publications from PubMed \n",
    "\n",
    "This notebook is used to search for and retrieve latest publications by Dr. Khan using BioPython's PubMed search tool. A publication-specific MarkDown file is generated for each unique paper, with many elements automatically set up. As noted in the original notebook, you generally should check that the link to the markdown file exists. Unfortunately, preprints cannot be found via this method (though they can be added manually). This notebook cannot find new preprints. The process is automated and runs monthly using Github actions.\n",
    "\n",
    "## Steps (via Github or manual)\n",
    "\n",
    "1. Run this notebook.\n",
    "2. If any new papers were grabbed, check the following:\n",
    "    1. The paper has either of the lab PIs as an author. Ensure that it isn't by *another* AR Khan.\n",
    "    2. The paper is not a duplicate of a preprint or another version of the paper. If so, merge the two versions.\n",
    "3. Save the changes to the notebook.\n",
    "4. Push changes to the notebook and affected files to GitHub.\n",
    "5. Open a pull request to khanlab/khanlab.github.io"
   ]
  },
  {
   "cell_type": "code",
   "execution_count": 1,
   "id": "e22f3858",
   "metadata": {
    "execution": {
     "iopub.execute_input": "2024-08-01T05:12:32.070052Z",
     "iopub.status.busy": "2024-08-01T05:12:32.069659Z",
     "iopub.status.idle": "2024-08-01T05:12:33.186255Z",
     "shell.execute_reply": "2024-08-01T05:12:33.185579Z"
    },
    "papermill": {
     "duration": 1.120801,
     "end_time": "2024-08-01T05:12:33.187966",
     "exception": false,
     "start_time": "2024-08-01T05:12:32.067165",
     "status": "completed"
    },
    "tags": []
   },
   "outputs": [],
   "source": [
    "# Libraries\n",
    "import os \n",
    "\n",
    "from Bio import Entrez, Medline\n",
    "from datetime import datetime\n",
    "from dateutil import parser\n",
    "import pandas as pd"
   ]
  },
  {
   "cell_type": "markdown",
   "id": "d526e19d",
   "metadata": {
    "papermill": {
     "duration": 0.001861,
     "end_time": "2024-08-01T05:12:33.191886",
     "exception": false,
     "start_time": "2024-08-01T05:12:33.190025",
     "status": "completed"
    },
    "tags": []
   },
   "source": [
    "### Check existing publications"
   ]
  },
  {
   "cell_type": "code",
   "execution_count": 2,
   "id": "5d9095c2",
   "metadata": {
    "execution": {
     "iopub.execute_input": "2024-08-01T05:12:33.196622Z",
     "iopub.status.busy": "2024-08-01T05:12:33.196108Z",
     "iopub.status.idle": "2024-08-01T05:12:33.203354Z",
     "shell.execute_reply": "2024-08-01T05:12:33.202796Z"
    },
    "papermill": {
     "duration": 0.011143,
     "end_time": "2024-08-01T05:12:33.204651",
     "exception": false,
     "start_time": "2024-08-01T05:12:33.193508",
     "status": "completed"
    },
    "tags": []
   },
   "outputs": [],
   "source": [
    "# First count number of articles from previous grab\n",
    "pub_data = \"_data/publications/publications.csv\"\n",
    "\n",
    "# Update count of publications from existing file\n",
    "old_count = 0 \n",
    "if os.path.isfile(pub_data):\n",
    "    df_old = pd.read_csv(pub_data)\n",
    "    old_count = len(df_old)"
   ]
  },
  {
   "cell_type": "markdown",
   "id": "da017a87",
   "metadata": {
    "papermill": {
     "duration": 0.001612,
     "end_time": "2024-08-01T05:12:33.207967",
     "exception": false,
     "start_time": "2024-08-01T05:12:33.206355",
     "status": "completed"
    },
    "tags": []
   },
   "source": [
    "### Perform new query"
   ]
  },
  {
   "cell_type": "code",
   "execution_count": 3,
   "id": "700613de",
   "metadata": {
    "execution": {
     "iopub.execute_input": "2024-08-01T05:12:33.212434Z",
     "iopub.status.busy": "2024-08-01T05:12:33.211960Z",
     "iopub.status.idle": "2024-08-01T05:12:33.215749Z",
     "shell.execute_reply": "2024-08-01T05:12:33.215045Z"
    },
    "papermill": {
     "duration": 0.007462,
     "end_time": "2024-08-01T05:12:33.217040",
     "exception": false,
     "start_time": "2024-08-01T05:12:33.209578",
     "status": "completed"
    },
    "tags": []
   },
   "outputs": [],
   "source": [
    "# Only grab papers from after the lab PI came to UWO\n",
    "search_criteria = ['''\"Khan AR\"[AUTH] AND (\"2015/01/01\"[PDAT] : \"3000/12/31\"[PDAT]) AND\n",
    "                    (\"Western University\"[AFFL] OR \"University of Western Ontario\"[AFFL] OR\n",
    "                     \"Brain and Mind Institute\"[AFFL] OR \"Robarts Research Institute\"[AFFL])''']\n",
    "\n",
    "# Email required to search\n",
    "Entrez.email = ''"
   ]
  },
  {
   "cell_type": "code",
   "execution_count": 4,
   "id": "2ad1de07",
   "metadata": {
    "execution": {
     "iopub.execute_input": "2024-08-01T05:12:33.221602Z",
     "iopub.status.busy": "2024-08-01T05:12:33.221202Z",
     "iopub.status.idle": "2024-08-01T05:12:34.929043Z",
     "shell.execute_reply": "2024-08-01T05:12:34.928387Z"
    },
    "papermill": {
     "duration": 1.711713,
     "end_time": "2024-08-01T05:12:34.930397",
     "exception": false,
     "start_time": "2024-08-01T05:12:33.218684",
     "status": "completed"
    },
    "scrolled": true,
    "tags": []
   },
   "outputs": [
    {
     "name": "stdout",
     "output_type": "stream",
     "text": [
      "Total number of publications containing \"Khan AR\"[AUTH] AND (\"2015/01/01\"[PDAT] : \"3000/12/31\"[PDAT]) AND\n",
      "                    (\"Western University\"[AFFL] OR \"University of Western Ontario\"[AFFL] OR\n",
      "                     \"Brain and Mind Institute\"[AFFL] OR \"Robarts Research Institute\"[AFFL]): 80\n"
     ]
    },
    {
     "name": "stdout",
     "output_type": "stream",
     "text": [
      "Saving identified publications to csv...\n"
     ]
    },
    {
     "name": "stderr",
     "output_type": "stream",
     "text": [
      "/tmp/ipykernel_2020/990535001.py:54: FutureWarning: The frame.append method is deprecated and will be removed from pandas in a future version. Use pandas.concat instead.\n",
      "  df = df_old.append(new_pubs)\n"
     ]
    }
   ],
   "source": [
    "rows = []\n",
    "\n",
    "# Publications to skip (possibly due to another user with same initial)\n",
    "skip_pmids = [32971934, 29641820, 29634829]\n",
    "skip_pmids = [str(pmid) for pmid in skip_pmids]\n",
    "\n",
    "for TERM in search_criteria:\n",
    "    search = Entrez.esearch(db=\"pubmed\", retmax=\"2\", term=TERM)\n",
    "    result = Entrez.read(search)\n",
    "    print(f\"Total number of publications containing {TERM}: {result['Count']}\")\n",
    "    \n",
    "    search_all = Entrez.esearch(db=\"pubmed\", term=TERM, retmax=result[\"Count\"])\n",
    "    result_all = Entrez.read(search_all)\n",
    "    ids_all = result_all['IdList']\n",
    "    pubs_all = Entrez.efetch(db=\"pubmed\", id=ids_all, rettype='medline', retmode='text')\n",
    "    records = Medline.parse(pubs_all)\n",
    "    \n",
    "    acceptable_formats = [\"journal article\", \"comparative study\", \"editorial\"]\n",
    "    \n",
    "    for record in records:\n",
    "        if any([type_.lower() in acceptable_formats for type_ in record.get('PT')]):\n",
    "            pmid = record.get(\"PMID\")\n",
    "            pmcid = record.get(\"PMC\", \"\")\n",
    "            \n",
    "            doi = [aid for aid in record.get(\"AID\", []) if aid.endswith(\" [doi]\")]\n",
    "            if doi:\n",
    "                doi = doi[0].replace(\" [doi]\", \"\")\n",
    "            else:\n",
    "                doi = \"\"\n",
    "            \n",
    "            title = record.get(\"TI\").rstrip(\".\")\n",
    "            authors = record.get(\"AU\")\n",
    "            \n",
    "            pub_date = parser.parse(record.get(\"DP\"))\n",
    "            journal = record.get('TA')\n",
    "            volume = record.get('VI', '')\n",
    "            issue = record.get('IP', '')\n",
    "            pages = record.get('PG', '')\n",
    "            \n",
    "            row = [pmid, pmcid, doi, title, authors, pub_date.year, pub_date.month,\n",
    "                   pub_date.day, journal, volume, issue, pages]\n",
    "            rows += [row]\n",
    "            \n",
    "df = pd.DataFrame(columns=['pmid', 'pmcid', 'doi', 'title', 'authors',\n",
    "                           'year', 'month', 'day',\n",
    "                           'journal', 'volume', 'issue', 'pages'],\n",
    "                  data=rows)\n",
    "df = df[~df[\"pmid\"].isin(skip_pmids)]\n",
    "df['pmid'] = df['pmid'].astype(int)\n",
    "\n",
    "new_pubs = df[~df['pmid'].isin(df_old['pmid'])]\n",
    "\n",
    "# Append to old pubs to solve date issue\n",
    "df = df_old.append(new_pubs)\n",
    "df = df.sort_values(by=['year', 'month', 'day'], ascending=False)\n",
    "df = df.fillna('')\n",
    "\n",
    "# Save all relevant info from articles to a csv.\n",
    "print(\"Saving identified publications to csv...\")\n",
    "df.to_csv('_data/publications/publications.csv', index=False)"
   ]
  },
  {
   "cell_type": "code",
   "execution_count": 5,
   "id": "70df731e",
   "metadata": {
    "execution": {
     "iopub.execute_input": "2024-08-01T05:12:34.935744Z",
     "iopub.status.busy": "2024-08-01T05:12:34.935173Z",
     "iopub.status.idle": "2024-08-01T05:12:34.942213Z",
     "shell.execute_reply": "2024-08-01T05:12:34.941521Z"
    },
    "papermill": {
     "duration": 0.011076,
     "end_time": "2024-08-01T05:12:34.943581",
     "exception": false,
     "start_time": "2024-08-01T05:12:34.932505",
     "status": "completed"
    },
    "tags": []
   },
   "outputs": [
    {
     "name": "stdout",
     "output_type": "stream",
     "text": [
      "74 total articles found.\n",
      "3 new articles found.\n",
      "\n",
      "New publications found:\n",
      "Title: Increased mean diffusivity of the caudal motor SNc identifies patients with REM sleep behaviour disorder and Parkinson's disease (NPJ Parkinsons Dis)\n",
      "Authors: ['Alushaj E', 'Hemachandra D', 'Ganjavi H', 'Seergobin KN', 'Sharma M', 'Kashgari A', 'Barr J', 'Reisman W', 'Khan AR', 'MacDonald PA']\n",
      "Journal (Date): NPJ Parkinsons Dis (6/29/2024)\n",
      "\n",
      "Title: Diffusion MRI of the Hippocampus (J Neurosci)\n",
      "Authors: ['Karat BG', 'Kohler S', 'Khan AR']\n",
      "Journal (Date): J Neurosci (6/5/2024)\n",
      "\n",
      "Title: MRI-degad: toward accurate conversion of gadolinium-enhanced T1w MRIs to non-contrast-enhanced scans using CNNs (Int J Comput Assist Radiol Surg)\n",
      "Authors: ['Ogunsanya F', 'Taha A', 'Gilmore G', 'Kai J', 'Kuehn T', 'Thurairajah A', 'Tenorio MC', 'Khan AR', 'Lau JC']\n",
      "Journal (Date): Int J Comput Assist Radiol Surg (7/1/2024)\n",
      "\n"
     ]
    }
   ],
   "source": [
    "# Add papers we already have pages for.\n",
    "if len(skip_pmids) > 0:\n",
    "    for pmid in skip_pmids:\n",
    "        df = df[df['pmid'] != pmid]\n",
    "        \n",
    "print(f\"{len(df)} total articles found.\")\n",
    "print(f\"{len(df) - old_count} new articles found.\")\n",
    "\n",
    "print(\"\\nNew publications found:\")\n",
    "for _, pub in new_pubs.iterrows():\n",
    "    print(f\"Title: {pub['title']} ({pub['journal']})\")\n",
    "    print(f\"Authors: {pub['authors']}\")\n",
    "    print(f\"Journal (Date): {pub['journal']} ({pub['month']}/{pub['day']}/{pub['year']})\\n\")\n"
   ]
  },
  {
   "cell_type": "code",
   "execution_count": 6,
   "id": "e76e9b21",
   "metadata": {
    "execution": {
     "iopub.execute_input": "2024-08-01T05:12:34.948222Z",
     "iopub.status.busy": "2024-08-01T05:12:34.948023Z",
     "iopub.status.idle": "2024-08-01T05:12:34.966274Z",
     "shell.execute_reply": "2024-08-01T05:12:34.965677Z"
    },
    "papermill": {
     "duration": 0.02216,
     "end_time": "2024-08-01T05:12:34.967637",
     "exception": false,
     "start_time": "2024-08-01T05:12:34.945477",
     "status": "completed"
    },
    "tags": []
   },
   "outputs": [
    {
     "data": {
      "text/html": [
       "<div>\n",
       "<style scoped>\n",
       "    .dataframe tbody tr th:only-of-type {\n",
       "        vertical-align: middle;\n",
       "    }\n",
       "\n",
       "    .dataframe tbody tr th {\n",
       "        vertical-align: top;\n",
       "    }\n",
       "\n",
       "    .dataframe thead th {\n",
       "        text-align: right;\n",
       "    }\n",
       "</style>\n",
       "<table border=\"1\" class=\"dataframe\">\n",
       "  <thead>\n",
       "    <tr style=\"text-align: right;\">\n",
       "      <th></th>\n",
       "      <th>pmid</th>\n",
       "      <th>pmcid</th>\n",
       "      <th>doi</th>\n",
       "      <th>title</th>\n",
       "      <th>authors</th>\n",
       "      <th>year</th>\n",
       "      <th>month</th>\n",
       "      <th>day</th>\n",
       "      <th>journal</th>\n",
       "      <th>volume</th>\n",
       "      <th>issue</th>\n",
       "      <th>pages</th>\n",
       "    </tr>\n",
       "  </thead>\n",
       "  <tbody>\n",
       "    <tr>\n",
       "      <th>0</th>\n",
       "      <td>38951528</td>\n",
       "      <td>PMC11217278</td>\n",
       "      <td>10.1038/s41531-024-00731-0</td>\n",
       "      <td>Increased mean diffusivity of the caudal motor...</td>\n",
       "      <td>[Alushaj E, Hemachandra D, Ganjavi H, Seergobi...</td>\n",
       "      <td>2024</td>\n",
       "      <td>6</td>\n",
       "      <td>29</td>\n",
       "      <td>NPJ Parkinsons Dis</td>\n",
       "      <td>10</td>\n",
       "      <td>1</td>\n",
       "      <td>128</td>\n",
       "    </tr>\n",
       "    <tr>\n",
       "      <th>1</th>\n",
       "      <td>38839341</td>\n",
       "      <td>PMC11154849</td>\n",
       "      <td>10.1523/JNEUROSCI.1705-23.2024</td>\n",
       "      <td>Diffusion MRI of the Hippocampus</td>\n",
       "      <td>[Karat BG, Kohler S, Khan AR]</td>\n",
       "      <td>2024</td>\n",
       "      <td>6</td>\n",
       "      <td>5</td>\n",
       "      <td>J Neurosci</td>\n",
       "      <td>44</td>\n",
       "      <td>23</td>\n",
       "      <td></td>\n",
       "    </tr>\n",
       "    <tr>\n",
       "      <th>2</th>\n",
       "      <td>38822981</td>\n",
       "      <td></td>\n",
       "      <td>10.1007/s11548-024-03186-z</td>\n",
       "      <td>MRI-degad: toward accurate conversion of gadol...</td>\n",
       "      <td>[Ogunsanya F, Taha A, Gilmore G, Kai J, Kuehn ...</td>\n",
       "      <td>2024</td>\n",
       "      <td>7</td>\n",
       "      <td>1</td>\n",
       "      <td>Int J Comput Assist Radiol Surg</td>\n",
       "      <td>19</td>\n",
       "      <td>7</td>\n",
       "      <td>1469-1472</td>\n",
       "    </tr>\n",
       "  </tbody>\n",
       "</table>\n",
       "</div>"
      ],
      "text/plain": [
       "       pmid        pmcid                             doi  \\\n",
       "0  38951528  PMC11217278      10.1038/s41531-024-00731-0   \n",
       "1  38839341  PMC11154849  10.1523/JNEUROSCI.1705-23.2024   \n",
       "2  38822981                   10.1007/s11548-024-03186-z   \n",
       "\n",
       "                                               title  \\\n",
       "0  Increased mean diffusivity of the caudal motor...   \n",
       "1                   Diffusion MRI of the Hippocampus   \n",
       "2  MRI-degad: toward accurate conversion of gadol...   \n",
       "\n",
       "                                             authors  year  month  day  \\\n",
       "0  [Alushaj E, Hemachandra D, Ganjavi H, Seergobi...  2024      6   29   \n",
       "1                      [Karat BG, Kohler S, Khan AR]  2024      6    5   \n",
       "2  [Ogunsanya F, Taha A, Gilmore G, Kai J, Kuehn ...  2024      7    1   \n",
       "\n",
       "                           journal volume issue      pages  \n",
       "0               NPJ Parkinsons Dis     10     1        128  \n",
       "1                       J Neurosci     44    23             \n",
       "2  Int J Comput Assist Radiol Surg     19     7  1469-1472  "
      ]
     },
     "execution_count": 6,
     "metadata": {},
     "output_type": "execute_result"
    }
   ],
   "source": [
    "# Also output the df in case output limit exceeded\n",
    "new_pubs"
   ]
  }
 ],
 "metadata": {
  "anaconda-cloud": {},
  "kernelspec": {
   "display_name": "khanlab.github.io",
   "language": "python",
   "name": "khanlab.github.io"
  },
  "language_info": {
   "codemirror_mode": {
    "name": "ipython",
    "version": 3
   },
   "file_extension": ".py",
   "mimetype": "text/x-python",
   "name": "python",
   "nbconvert_exporter": "python",
   "pygments_lexer": "ipython3",
   "version": "3.10.14"
  },
  "papermill": {
   "default_parameters": {},
   "duration": 3.958331,
   "end_time": "2024-08-01T05:12:35.186215",
   "environment_variables": {},
   "exception": null,
   "input_path": "/home/runner/work/khanlab.github.io/khanlab.github.io/get_publications.ipynb",
   "output_path": "/home/runner/work/khanlab.github.io/khanlab.github.io/get_publications.ipynb",
   "parameters": {},
   "start_time": "2024-08-01T05:12:31.227884",
   "version": "2.3.3"
  },
  "vscode": {
   "interpreter": {
    "hash": "f5bc17ec438c58579c8fad5c2a3a4c0e08154707e8777e80eae011e8f60ceb8a"
   }
  }
 },
 "nbformat": 4,
 "nbformat_minor": 5
}