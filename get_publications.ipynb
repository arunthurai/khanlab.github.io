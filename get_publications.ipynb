{
 "cells": [
  {
   "cell_type": "markdown",
   "id": "74557173",
   "metadata": {
    "papermill": {
     "duration": 0.002789,
     "end_time": "2023-10-01T05:10:29.097839",
     "exception": false,
     "start_time": "2023-10-01T05:10:29.095050",
     "status": "completed"
    },
    "tags": []
   },
   "source": [
    "_Adapted from notebook used by [nbclab.github.io](https://nbclab.github.io)._\n",
    "\n",
    "# Retrieve new publications from PubMed \n",
    "\n",
    "This notebook is used to search for and retrieve latest publications by Dr. Khan using BioPython's PubMed search tool. A publication-specific MarkDown file is generated for each unique paper, with many elements automatically set up. As noted in the original notebook, you generally should check that the link to the markdown file exists. Unfortunately, preprints cannot be found via this method (though they can be added manually). This notebook cannot find new preprints. The process is automated and runs monthly using Github actions.\n",
    "\n",
    "## Steps (via Github or manual)\n",
    "\n",
    "1. Run this notebook.\n",
    "2. If any new papers were grabbed, check the following:\n",
    "    1. The paper has either of the lab PIs as an author. Ensure that it isn't by *another* AR Khan.\n",
    "    2. The paper is not a duplicate of a preprint or another version of the paper. If so, merge the two versions.\n",
    "3. Save the changes to the notebook.\n",
    "4. Push changes to the notebook and affected files to GitHub.\n",
    "5. Open a pull request to khanlab/khanlab.github.io"
   ]
  },
  {
   "cell_type": "code",
   "execution_count": 1,
   "id": "e22f3858",
   "metadata": {
    "execution": {
     "iopub.execute_input": "2023-10-01T05:10:29.103917Z",
     "iopub.status.busy": "2023-10-01T05:10:29.103370Z",
     "iopub.status.idle": "2023-10-01T05:10:29.359977Z",
     "shell.execute_reply": "2023-10-01T05:10:29.359312Z"
    },
    "papermill": {
     "duration": 0.261622,
     "end_time": "2023-10-01T05:10:29.361804",
     "exception": false,
     "start_time": "2023-10-01T05:10:29.100182",
     "status": "completed"
    },
    "tags": []
   },
   "outputs": [],
   "source": [
    "# Libraries\n",
    "import os \n",
    "\n",
    "from Bio import Entrez, Medline\n",
    "from datetime import datetime\n",
    "from dateutil import parser\n",
    "import pandas as pd"
   ]
  },
  {
   "cell_type": "markdown",
   "id": "d526e19d",
   "metadata": {
    "papermill": {
     "duration": 0.00216,
     "end_time": "2023-10-01T05:10:29.366350",
     "exception": false,
     "start_time": "2023-10-01T05:10:29.364190",
     "status": "completed"
    },
    "tags": []
   },
   "source": [
    "### Check existing publications"
   ]
  },
  {
   "cell_type": "code",
   "execution_count": 2,
   "id": "5d9095c2",
   "metadata": {
    "execution": {
     "iopub.execute_input": "2023-10-01T05:10:29.371984Z",
     "iopub.status.busy": "2023-10-01T05:10:29.371311Z",
     "iopub.status.idle": "2023-10-01T05:10:29.379163Z",
     "shell.execute_reply": "2023-10-01T05:10:29.378568Z"
    },
    "papermill": {
     "duration": 0.012318,
     "end_time": "2023-10-01T05:10:29.380710",
     "exception": false,
     "start_time": "2023-10-01T05:10:29.368392",
     "status": "completed"
    },
    "tags": []
   },
   "outputs": [],
   "source": [
    "# First count number of articles from previous grab\n",
    "pub_data = \"_data/publications/publications.csv\"\n",
    "\n",
    "# Update count of publications from existing file\n",
    "old_count = 0 \n",
    "if os.path.isfile(pub_data):\n",
    "    df_old = pd.read_csv(pub_data)\n",
    "    old_count = len(df_old)"
   ]
  },
  {
   "cell_type": "markdown",
   "id": "da017a87",
   "metadata": {
    "papermill": {
     "duration": 0.001965,
     "end_time": "2023-10-01T05:10:29.384741",
     "exception": false,
     "start_time": "2023-10-01T05:10:29.382776",
     "status": "completed"
    },
    "tags": []
   },
   "source": [
    "### Perform new query"
   ]
  },
  {
   "cell_type": "code",
   "execution_count": 3,
   "id": "700613de",
   "metadata": {
    "execution": {
     "iopub.execute_input": "2023-10-01T05:10:29.389909Z",
     "iopub.status.busy": "2023-10-01T05:10:29.389539Z",
     "iopub.status.idle": "2023-10-01T05:10:29.393215Z",
     "shell.execute_reply": "2023-10-01T05:10:29.392528Z"
    },
    "papermill": {
     "duration": 0.007806,
     "end_time": "2023-10-01T05:10:29.394616",
     "exception": false,
     "start_time": "2023-10-01T05:10:29.386810",
     "status": "completed"
    },
    "tags": []
   },
   "outputs": [],
   "source": [
    "# Only grab papers from after the lab PI came to UWO\n",
    "search_criteria = ['''\"Khan AR\"[AUTH] AND (\"2015/01/01\"[PDAT] : \"3000/12/31\"[PDAT]) AND\n",
    "                    (\"Western University\"[AFFL] OR \"University of Western Ontario\"[AFFL] OR\n",
    "                     \"Brain and Mind Institute\"[AFFL] OR \"Robarts Research Institute\"[AFFL])''']\n",
    "\n",
    "# Email required to search\n",
    "Entrez.email = ''"
   ]
  },
  {
   "cell_type": "code",
   "execution_count": 4,
   "id": "2ad1de07",
   "metadata": {
    "execution": {
     "iopub.execute_input": "2023-10-01T05:10:29.399696Z",
     "iopub.status.busy": "2023-10-01T05:10:29.399488Z",
     "iopub.status.idle": "2023-10-01T05:10:31.735927Z",
     "shell.execute_reply": "2023-10-01T05:10:31.735372Z"
    },
    "papermill": {
     "duration": 2.340754,
     "end_time": "2023-10-01T05:10:31.737387",
     "exception": false,
     "start_time": "2023-10-01T05:10:29.396633",
     "status": "completed"
    },
    "scrolled": true,
    "tags": []
   },
   "outputs": [
    {
     "name": "stdout",
     "output_type": "stream",
     "text": [
      "Total number of publications containing \"Khan AR\"[AUTH] AND (\"2015/01/01\"[PDAT] : \"3000/12/31\"[PDAT]) AND\n",
      "                    (\"Western University\"[AFFL] OR \"University of Western Ontario\"[AFFL] OR\n",
      "                     \"Brain and Mind Institute\"[AFFL] OR \"Robarts Research Institute\"[AFFL]): 69\n"
     ]
    },
    {
     "name": "stdout",
     "output_type": "stream",
     "text": [
      "Saving identified publications to csv...\n"
     ]
    },
    {
     "name": "stderr",
     "output_type": "stream",
     "text": [
      "/tmp/ipykernel_2439/990535001.py:54: FutureWarning: The frame.append method is deprecated and will be removed from pandas in a future version. Use pandas.concat instead.\n",
      "  df = df_old.append(new_pubs)\n"
     ]
    }
   ],
   "source": [
    "rows = []\n",
    "\n",
    "# Publications to skip (possibly due to another user with same initial)\n",
    "skip_pmids = [32971934, 29641820, 29634829]\n",
    "skip_pmids = [str(pmid) for pmid in skip_pmids]\n",
    "\n",
    "for TERM in search_criteria:\n",
    "    search = Entrez.esearch(db=\"pubmed\", retmax=\"2\", term=TERM)\n",
    "    result = Entrez.read(search)\n",
    "    print(f\"Total number of publications containing {TERM}: {result['Count']}\")\n",
    "    \n",
    "    search_all = Entrez.esearch(db=\"pubmed\", term=TERM, retmax=result[\"Count\"])\n",
    "    result_all = Entrez.read(search_all)\n",
    "    ids_all = result_all['IdList']\n",
    "    pubs_all = Entrez.efetch(db=\"pubmed\", id=ids_all, rettype='medline', retmode='text')\n",
    "    records = Medline.parse(pubs_all)\n",
    "    \n",
    "    acceptable_formats = [\"journal article\", \"comparative study\", \"editorial\"]\n",
    "    \n",
    "    for record in records:\n",
    "        if any([type_.lower() in acceptable_formats for type_ in record.get('PT')]):\n",
    "            pmid = record.get(\"PMID\")\n",
    "            pmcid = record.get(\"PMC\", \"\")\n",
    "            \n",
    "            doi = [aid for aid in record.get(\"AID\", []) if aid.endswith(\" [doi]\")]\n",
    "            if doi:\n",
    "                doi = doi[0].replace(\" [doi]\", \"\")\n",
    "            else:\n",
    "                doi = \"\"\n",
    "            \n",
    "            title = record.get(\"TI\").rstrip(\".\")\n",
    "            authors = record.get(\"AU\")\n",
    "            \n",
    "            pub_date = parser.parse(record.get(\"DP\"))\n",
    "            journal = record.get('TA')\n",
    "            volume = record.get('VI', '')\n",
    "            issue = record.get('IP', '')\n",
    "            pages = record.get('PG', '')\n",
    "            \n",
    "            row = [pmid, pmcid, doi, title, authors, pub_date.year, pub_date.month,\n",
    "                   pub_date.day, journal, volume, issue, pages]\n",
    "            rows += [row]\n",
    "            \n",
    "df = pd.DataFrame(columns=['pmid', 'pmcid', 'doi', 'title', 'authors',\n",
    "                           'year', 'month', 'day',\n",
    "                           'journal', 'volume', 'issue', 'pages'],\n",
    "                  data=rows)\n",
    "df = df[~df[\"pmid\"].isin(skip_pmids)]\n",
    "df['pmid'] = df['pmid'].astype(int)\n",
    "\n",
    "new_pubs = df[~df['pmid'].isin(df_old['pmid'])]\n",
    "\n",
    "# Append to old pubs to solve date issue\n",
    "df = df_old.append(new_pubs)\n",
    "df = df.sort_values(by=['year', 'month', 'day'], ascending=False)\n",
    "df = df.fillna('')\n",
    "\n",
    "# Save all relevant info from articles to a csv.\n",
    "print(\"Saving identified publications to csv...\")\n",
    "df.to_csv('_data/publications/publications.csv', index=False)"
   ]
  },
  {
   "cell_type": "code",
   "execution_count": 5,
   "id": "70df731e",
   "metadata": {
    "execution": {
     "iopub.execute_input": "2023-10-01T05:10:31.743885Z",
     "iopub.status.busy": "2023-10-01T05:10:31.743242Z",
     "iopub.status.idle": "2023-10-01T05:10:31.752024Z",
     "shell.execute_reply": "2023-10-01T05:10:31.751390Z"
    },
    "papermill": {
     "duration": 0.013681,
     "end_time": "2023-10-01T05:10:31.753591",
     "exception": false,
     "start_time": "2023-10-01T05:10:31.739910",
     "status": "completed"
    },
    "tags": []
   },
   "outputs": [
    {
     "name": "stdout",
     "output_type": "stream",
     "text": [
      "64 total articles found.\n",
      "1 new articles found.\n",
      "\n",
      "New publications found:\n",
      "Title: A population-averaged structural connectomic brain atlas dataset from 422 HCP-aging subjects (Data Brief)\n",
      "Authors: ['Xiao Y', 'Gilmore G', 'Kai J', 'Lau JC', 'Peters T', 'Khan AR']\n",
      "Journal (Date): Data Brief (10/1/2023)\n",
      "\n"
     ]
    }
   ],
   "source": [
    "# Add papers we already have pages for.\n",
    "if len(skip_pmids) > 0:\n",
    "    for pmid in skip_pmids:\n",
    "        df = df[df['pmid'] != pmid]\n",
    "        \n",
    "print(f\"{len(df)} total articles found.\")\n",
    "print(f\"{len(df) - old_count} new articles found.\")\n",
    "\n",
    "print(\"\\nNew publications found:\")\n",
    "for _, pub in new_pubs.iterrows():\n",
    "    print(f\"Title: {pub['title']} ({pub['journal']})\")\n",
    "    print(f\"Authors: {pub['authors']}\")\n",
    "    print(f\"Journal (Date): {pub['journal']} ({pub['month']}/{pub['day']}/{pub['year']})\\n\")\n"
   ]
  },
  {
   "cell_type": "code",
   "execution_count": 6,
   "id": "e76e9b21",
   "metadata": {
    "execution": {
     "iopub.execute_input": "2023-10-01T05:10:31.759465Z",
     "iopub.status.busy": "2023-10-01T05:10:31.759051Z",
     "iopub.status.idle": "2023-10-01T05:10:31.774288Z",
     "shell.execute_reply": "2023-10-01T05:10:31.773654Z"
    },
    "papermill": {
     "duration": 0.019815,
     "end_time": "2023-10-01T05:10:31.775857",
     "exception": false,
     "start_time": "2023-10-01T05:10:31.756042",
     "status": "completed"
    },
    "tags": []
   },
   "outputs": [
    {
     "data": {
      "text/html": [
       "<div>\n",
       "<style scoped>\n",
       "    .dataframe tbody tr th:only-of-type {\n",
       "        vertical-align: middle;\n",
       "    }\n",
       "\n",
       "    .dataframe tbody tr th {\n",
       "        vertical-align: top;\n",
       "    }\n",
       "\n",
       "    .dataframe thead th {\n",
       "        text-align: right;\n",
       "    }\n",
       "</style>\n",
       "<table border=\"1\" class=\"dataframe\">\n",
       "  <thead>\n",
       "    <tr style=\"text-align: right;\">\n",
       "      <th></th>\n",
       "      <th>pmid</th>\n",
       "      <th>pmcid</th>\n",
       "      <th>doi</th>\n",
       "      <th>title</th>\n",
       "      <th>authors</th>\n",
       "      <th>year</th>\n",
       "      <th>month</th>\n",
       "      <th>day</th>\n",
       "      <th>journal</th>\n",
       "      <th>volume</th>\n",
       "      <th>issue</th>\n",
       "      <th>pages</th>\n",
       "    </tr>\n",
       "  </thead>\n",
       "  <tbody>\n",
       "    <tr>\n",
       "      <th>0</th>\n",
       "      <td>37663773</td>\n",
       "      <td>PMC10474320</td>\n",
       "      <td>10.1016/j.dib.2023.109513</td>\n",
       "      <td>A population-averaged structural connectomic b...</td>\n",
       "      <td>[Xiao Y, Gilmore G, Kai J, Lau JC, Peters T, K...</td>\n",
       "      <td>2023</td>\n",
       "      <td>10</td>\n",
       "      <td>1</td>\n",
       "      <td>Data Brief</td>\n",
       "      <td>50</td>\n",
       "      <td></td>\n",
       "      <td>109513</td>\n",
       "    </tr>\n",
       "  </tbody>\n",
       "</table>\n",
       "</div>"
      ],
      "text/plain": [
       "       pmid        pmcid                        doi  \\\n",
       "0  37663773  PMC10474320  10.1016/j.dib.2023.109513   \n",
       "\n",
       "                                               title  \\\n",
       "0  A population-averaged structural connectomic b...   \n",
       "\n",
       "                                             authors  year  month  day  \\\n",
       "0  [Xiao Y, Gilmore G, Kai J, Lau JC, Peters T, K...  2023     10    1   \n",
       "\n",
       "      journal volume issue   pages  \n",
       "0  Data Brief     50        109513  "
      ]
     },
     "execution_count": 6,
     "metadata": {},
     "output_type": "execute_result"
    }
   ],
   "source": [
    "# Also output the df in case output limit exceeded\n",
    "new_pubs"
   ]
  }
 ],
 "metadata": {
  "anaconda-cloud": {},
  "kernelspec": {
   "display_name": "khanlab.github.io",
   "language": "python",
   "name": "khanlab.github.io"
  },
  "language_info": {
   "codemirror_mode": {
    "name": "ipython",
    "version": 3
   },
   "file_extension": ".py",
   "mimetype": "text/x-python",
   "name": "python",
   "nbconvert_exporter": "python",
   "pygments_lexer": "ipython3",
   "version": "3.10.13"
  },
  "papermill": {
   "default_parameters": {},
   "duration": 4.093607,
   "end_time": "2023-10-01T05:10:31.994912",
   "environment_variables": {},
   "exception": null,
   "input_path": "/home/runner/work/khanlab.github.io/khanlab.github.io/get_publications.ipynb",
   "output_path": "/home/runner/work/khanlab.github.io/khanlab.github.io/get_publications.ipynb",
   "parameters": {},
   "start_time": "2023-10-01T05:10:27.901305",
   "version": "2.3.3"
  },
  "vscode": {
   "interpreter": {
    "hash": "f5bc17ec438c58579c8fad5c2a3a4c0e08154707e8777e80eae011e8f60ceb8a"
   }
  }
 },
 "nbformat": 4,
 "nbformat_minor": 5
}